{
 "cells": [
  {
   "cell_type": "markdown",
   "metadata": {},
   "source": [
    "# Application d'extractions des relations sociales entre entités nommées"
   ]
  },
  {
   "cell_type": "markdown",
   "metadata": {},
   "source": [
    "- REmplacer les 'her', 'him', 'she', etc... par les noms des entités nommées en utilisant des règles 'à la main'\n",
    "- Penser aux words-embedding"
   ]
  },
  {
   "cell_type": "code",
   "execution_count": 386,
   "metadata": {},
   "outputs": [],
   "source": [
    "from stanfordcorenlp import StanfordCoreNLP\n",
    "from nltk.tokenize import sent_tokenize, word_tokenize"
   ]
  },
  {
   "cell_type": "code",
   "execution_count": 387,
   "metadata": {
    "scrolled": true
   },
   "outputs": [],
   "source": [
    "nlp = StanfordCoreNLP('stanford-corenlp-full-2018-10-05')"
   ]
  },
  {
   "cell_type": "code",
   "execution_count": 388,
   "metadata": {},
   "outputs": [],
   "source": [
    "file = open('Hamlet.txt','r+')\n",
    "text = file.read()\n",
    "#text = text.replace(\"\\n\",\" \")\n",
    "text = text.replace(\"’\\n\",\"\\n\")\n",
    "text_tokens = sent_tokenize(text)\n",
    "#test = []\n",
    "#for elt in text_tokens :\n",
    "#    test.append(word_tokenize(elt))\n",
    "PERSON = []\n",
    "DEPENDENCY = [[]]*len(text)\n",
    "TOKENS = []\n",
    "RELATIONSHIP = {}\n",
    "LINKS = ['son','father','mother','daughter','cousin','siblings','husband','wife','spouses','brother','sister','friend','girlfriend','boyfriend']"
   ]
  },
  {
   "cell_type": "code",
   "execution_count": 389,
   "metadata": {},
   "outputs": [
    {
     "name": "stdout",
     "output_type": "stream",
     "text": [
      "{'Claudius': [], 'Gertrude': [], 'Mother': [], 'Hamlet': [], 'Ophelia': [], 'Horatio': []}\n"
     ]
    }
   ],
   "source": [
    "NE = nlp.ner(text)\n",
    "parsing = nlp.dependency_parse(text)\n",
    "\n",
    "for line in text_tokens : \n",
    "    TOKENS.append(nlp.word_tokenize(line))\n",
    "for elt in NE :\n",
    "    if 'PERSON' in elt :\n",
    "        PERSON.append(elt[0])\n",
    "\n",
    "PERSON = list(set(PERSON))\n",
    "for p in PERSON : \n",
    "    RELATIONSHIP[p] = []\n",
    "    \n",
    "print(RELATIONSHIP)"
   ]
  },
  {
   "cell_type": "code",
   "execution_count": 390,
   "metadata": {},
   "outputs": [],
   "source": [
    "nb_line = 0\n",
    "for line in text_tokens  :\n",
    "    #print(nb_line,' : ', line)\n",
    "    parsing = nlp.dependency_parse(line)\n",
    "    for elt in parsing:\n",
    "    \n",
    "        if ('nmod:poss' in elt) :\n",
    "            #print(\"Ajout de :\", elt, 'à la ligne :', nb_line)\n",
    "            DEPENDENCY[nb_line] = DEPENDENCY[nb_line] + [(elt)]\n",
    "\n",
    "        elif('appos' in elt) : \n",
    "            #print(\"Ajout de :\", elt, 'à la ligne :', nb_line)\n",
    "            DEPENDENCY[nb_line] = DEPENDENCY[nb_line] + [(elt)]\n",
    "    nb_line+=1"
   ]
  },
  {
   "cell_type": "code",
   "execution_count": 391,
   "metadata": {},
   "outputs": [],
   "source": [
    "nlp.close()"
   ]
  },
  {
   "cell_type": "code",
   "execution_count": 392,
   "metadata": {},
   "outputs": [],
   "source": [
    "def make_relation(dep,dependencies,nb_line):\n",
    "    \n",
    "    if(dep[0]=='nmod:poss') :\n",
    "        \n",
    "        #print('make_relation :',dep,dependencies,nb_line)\n",
    "        \n",
    "        if (dependencies == []):\n",
    "            #print('Un seul élément')\n",
    "            #print(('NaN',dep[1],dep[2],nb_line))\n",
    "            return(('NaN',dep[1],dep[2],nb_line))\n",
    "        \n",
    "        else :\n",
    "            for elt in dependencies :\n",
    "                if (elt[0]=='appos'):\n",
    "                    #print('Appos trouvé')\n",
    "                    if(dep[1]-elt[1]==0) :\n",
    "                        \n",
    "                        #print((elt[2],dep[1],dep[2],nb_line))\n",
    "                        return((elt[2],dep[1],dep[2],nb_line))\n",
    "        \n",
    "    return((0,0,0))\n",
    "    "
   ]
  },
  {
   "cell_type": "code",
   "execution_count": 393,
   "metadata": {},
   "outputs": [],
   "source": [
    "#for elt in DEPENDENCY : \n",
    "    #print(elt)"
   ]
  },
  {
   "cell_type": "markdown",
   "metadata": {},
   "source": [
    "On a un problème : \n",
    "\n",
    "- On a utilisé la tokenization par phrase de la librairie, c'est à dire qu'on a découpé le texte par phrase avec une liste qui contient dans chacune de ses cases une phrase du texte.\n",
    "\n",
    "    - Le problème : La fonction n'a pas toujours découpé le texte par phrase (voir par exemple la case numéro 5 dans laquelle on retrouve 2 phrases)\n",
    "\n",
    "\n",
    "\n",
    "- On a, pour chacune des cases, utilisé l'analyseur de dépendences qui nous permet d'avoir les relations nmod:pos et appos entre les mots pour chacune des phrases qu'on a tokénizé.\n",
    "\n",
    "    - Le problème est que l'analyseur de dépendences, lui, découpe correctement les phrases. Ainsi, lorsqu'il nous donne l'indice d'un mot, il se base sur son découpage et non celui de la fonction qu'on a utilisé pour découper nos phrases, ce faisant, les indices des mots ne correspondent plus entre notre phrase du texte tokénisé et notre phrase du texte analysé.\n",
    "\n",
    "\n",
    "Solution temporaire : \n",
    "\n",
    "Le problème vient des caractères spéciaux \"’\" qui encadrent les dialogues, il suffit de les supprimer pour ce texte précis.\n"
   ]
  },
  {
   "cell_type": "code",
   "execution_count": 394,
   "metadata": {},
   "outputs": [
    {
     "name": "stdout",
     "output_type": "stream",
     "text": [
      "NaN father Hamlet\n",
      "Gertrude mother Hamlet\n",
      "Horatio friend Hamlet\n",
      "NaN father Hamlet\n",
      "Ophelia girlfriend his\n",
      "NaN play their\n",
      "NaN father Hamlet\n",
      "Laertes brother Ophelia\n",
      "NaN drink his\n",
      "NaN friend his\n",
      "NaN prince my\n",
      "{'Claudius': [], 'Gertrude': [('mother', 'Hamlet')], 'Mother': [], 'Hamlet': [], 'Ophelia': [('girlfriend', 'his')], 'Horatio': [('friend', 'Hamlet')], 'NaN0': [('father', 'Hamlet')], 'NaN1': [('father', 'Hamlet')], 'NaN2': [('play', 'their')], 'NaN3': [('father', 'Hamlet')], 'Laertes': [('brother', 'Ophelia')], 'NaN4': [('drink', 'his')], 'NaN5': [('friend', 'his')], 'NaN6': [('prince', 'my')]}\n"
     ]
    }
   ],
   "source": [
    "nb_line = 0\n",
    "tmp = []\n",
    "encoded_relationship = []\n",
    "id_NaN = 0\n",
    "\n",
    "for elt in DEPENDENCY :\n",
    "    try :\n",
    "        tmp.append(make_relation(elt[0],elt[1:],nb_line))\n",
    "        nb_line+=1\n",
    "        \n",
    "    except : \n",
    "        nb_line+=1\n",
    "\n",
    "for t in tmp : \n",
    "    if(t!=(0,0,0)) :\n",
    "        encoded_relationship.append(t)\n",
    "        \n",
    "for r in encoded_relationship :\n",
    "    \n",
    "    try :\n",
    "        line = r[3]\n",
    "        perso1 = r[0]-1\n",
    "        lien = r[1]-1\n",
    "        perso2 = r[2]-1\n",
    "        print(TOKENS[line][perso1],TOKENS[line][lien],TOKENS[line][perso2])\n",
    "        \n",
    "        try :\n",
    "            RELATIONSHIP[(TOKENS[line][perso1])] += [(TOKENS[line][lien],TOKENS[line][perso2])]\n",
    "        \n",
    "        except :\n",
    "            RELATIONSHIP[(TOKENS[line][perso1])] = [(TOKENS[line][lien],TOKENS[line][perso2])]\n",
    "        \n",
    "    \n",
    "    except :\n",
    "        \n",
    "        line = r[3]\n",
    "        lien = r[1]-1\n",
    "        perso2 = r[2]-1\n",
    "        print(r[0],TOKENS[line][lien],TOKENS[line][perso2])\n",
    "        RELATIONSHIP[str(r[0])+str(id_NaN)] = [(TOKENS[line][lien],TOKENS[line][perso2])]\n",
    "        \n",
    "        id_NaN +=1\n",
    "\n"
   ]
  },
  {
   "cell_type": "code",
   "execution_count": 404,
   "metadata": {},
   "outputs": [
    {
     "name": "stdout",
     "output_type": "stream",
     "text": [
      "Claudius : []\n",
      "Gertrude : [('mother', 'Hamlet')]\n",
      "Mother : []\n",
      "Hamlet : []\n",
      "Ophelia : [('girlfriend', 'his')]\n",
      "Horatio : [('friend', 'Hamlet')]\n",
      "NaN0 : [('father', 'Hamlet')]\n",
      "NaN1 : [('father', 'Hamlet')]\n",
      "NaN2 : [('play', 'their')]\n",
      "NaN3 : [('father', 'Hamlet')]\n",
      "Laertes : [('brother', 'Ophelia')]\n",
      "NaN4 : [('drink', 'his')]\n",
      "NaN5 : [('friend', 'his')]\n",
      "NaN6 : [('prince', 'my')]\n"
     ]
    }
   ],
   "source": [
    "for elt in RELATIONSHIP : \n",
    "    print(elt, \":\", RELATIONSHIP[elt])"
   ]
  },
  {
   "cell_type": "code",
   "execution_count": 405,
   "metadata": {},
   "outputs": [],
   "source": [
    "#dictionnary = {}\n",
    "#dictionnary['Hamlet'] = [('father','The King'),('Mother','Gertrude')]\n",
    "#print(dictionnary)\n",
    "#dictionnary['Hamlet'] += [('lool','ff')]\n",
    "#print(dictionnary)"
   ]
  },
  {
   "cell_type": "code",
   "execution_count": null,
   "metadata": {},
   "outputs": [],
   "source": []
  }
 ],
 "metadata": {
  "kernelspec": {
   "display_name": "Python 3",
   "language": "python",
   "name": "python3"
  },
  "language_info": {
   "codemirror_mode": {
    "name": "ipython",
    "version": 3
   },
   "file_extension": ".py",
   "mimetype": "text/x-python",
   "name": "python",
   "nbconvert_exporter": "python",
   "pygments_lexer": "ipython3",
   "version": "3.6.5"
  }
 },
 "nbformat": 4,
 "nbformat_minor": 2
}
